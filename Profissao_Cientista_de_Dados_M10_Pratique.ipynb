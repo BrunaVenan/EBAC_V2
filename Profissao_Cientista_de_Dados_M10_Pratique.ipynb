{
  "nbformat": 4,
  "nbformat_minor": 0,
  "metadata": {
    "colab": {
      "provenance": []
    },
    "kernelspec": {
      "name": "python3",
      "display_name": "Python 3"
    },
    "language_info": {
      "name": "python"
    }
  },
  "cells": [
    {
      "cell_type": "markdown",
      "source": [
        "# Módulo Visualização de Dados:"
      ],
      "metadata": {
        "id": "8FQ9BDDBceK6"
      }
    },
    {
      "cell_type": "markdown",
      "source": [
        "# Nova seção"
      ],
      "metadata": {
        "id": "sCjYEgcjNsOw"
      }
    },
    {
      "cell_type": "markdown",
      "source": [
        "Leia o arquivo ecommerce_preparados.csv’ dentro de um dataframe  \n",
        "\n",
        "Faça uma análise detalhada dos dados, descubra quais dados gostaria de destacar e crie os seguintes gráficos:\n",
        "\n",
        "\n",
        "*   1 Gráfico de dispersão\n",
        "*   1 Mapa de calor\n",
        "*   1 Gráfico de barra\n",
        "*   1 Gráfico de pizza\n",
        "*   1 Gráfico de densidade\n",
        "\n",
        "Adicione títulos nos gráficos e nos eixos para ficar claro os objetivos dos gráficos.\n",
        "\n",
        "Fiquem a vontade para escolher a biblioteca que quiserem, não esqueçam de comentar os códigos."
      ],
      "metadata": {
        "id": "TRJRKptEcT4t"
      }
    },
    {
      "cell_type": "markdown",
      "source": [
        "Essa atividade é um pouco diferente, vocês terão que construir os códigos nesse arquivo e enviar ou o arquivo ou o link do github com o arquivo publicado para os tutores."
      ],
      "metadata": {
        "id": "IEND0EU-chPr"
      }
    },
    {
      "cell_type": "code",
      "source": [
        "from google.colab import files\n",
        "\n",
        "# Fazer upload do arquivo CSV\n",
        "uploaded = files.upload()"
      ],
      "metadata": {
        "id": "yVcX0gJ5PjnX",
        "colab": {
          "base_uri": "https://localhost:8080/",
          "height": 37
        },
        "outputId": "acc858dd-0c49-4483-d067-6e8c28d8737c"
      },
      "execution_count": null,
      "outputs": [
        {
          "data": {
            "text/html": [
              "\n",
              "     <input type=\"file\" id=\"files-d0fbd588-0124-4f6f-bec2-25dfe34be9a1\" name=\"files[]\" multiple disabled\n",
              "        style=\"border:none\" />\n",
              "     <output id=\"result-d0fbd588-0124-4f6f-bec2-25dfe34be9a1\">\n",
              "      Upload widget is only available when the cell has been executed in the\n",
              "      current browser session. Please rerun this cell to enable.\n",
              "      </output>\n",
              "      <script>// Copyright 2017 Google LLC\n",
              "//\n",
              "// Licensed under the Apache License, Version 2.0 (the \"License\");\n",
              "// you may not use this file except in compliance with the License.\n",
              "// You may obtain a copy of the License at\n",
              "//\n",
              "//      http://www.apache.org/licenses/LICENSE-2.0\n",
              "//\n",
              "// Unless required by applicable law or agreed to in writing, software\n",
              "// distributed under the License is distributed on an \"AS IS\" BASIS,\n",
              "// WITHOUT WARRANTIES OR CONDITIONS OF ANY KIND, either express or implied.\n",
              "// See the License for the specific language governing permissions and\n",
              "// limitations under the License.\n",
              "\n",
              "/**\n",
              " * @fileoverview Helpers for google.colab Python module.\n",
              " */\n",
              "(function(scope) {\n",
              "function span(text, styleAttributes = {}) {\n",
              "  const element = document.createElement('span');\n",
              "  element.textContent = text;\n",
              "  for (const key of Object.keys(styleAttributes)) {\n",
              "    element.style[key] = styleAttributes[key];\n",
              "  }\n",
              "  return element;\n",
              "}\n",
              "\n",
              "// Max number of bytes which will be uploaded at a time.\n",
              "const MAX_PAYLOAD_SIZE = 100 * 1024;\n",
              "\n",
              "function _uploadFiles(inputId, outputId) {\n",
              "  const steps = uploadFilesStep(inputId, outputId);\n",
              "  const outputElement = document.getElementById(outputId);\n",
              "  // Cache steps on the outputElement to make it available for the next call\n",
              "  // to uploadFilesContinue from Python.\n",
              "  outputElement.steps = steps;\n",
              "\n",
              "  return _uploadFilesContinue(outputId);\n",
              "}\n",
              "\n",
              "// This is roughly an async generator (not supported in the browser yet),\n",
              "// where there are multiple asynchronous steps and the Python side is going\n",
              "// to poll for completion of each step.\n",
              "// This uses a Promise to block the python side on completion of each step,\n",
              "// then passes the result of the previous step as the input to the next step.\n",
              "function _uploadFilesContinue(outputId) {\n",
              "  const outputElement = document.getElementById(outputId);\n",
              "  const steps = outputElement.steps;\n",
              "\n",
              "  const next = steps.next(outputElement.lastPromiseValue);\n",
              "  return Promise.resolve(next.value.promise).then((value) => {\n",
              "    // Cache the last promise value to make it available to the next\n",
              "    // step of the generator.\n",
              "    outputElement.lastPromiseValue = value;\n",
              "    return next.value.response;\n",
              "  });\n",
              "}\n",
              "\n",
              "/**\n",
              " * Generator function which is called between each async step of the upload\n",
              " * process.\n",
              " * @param {string} inputId Element ID of the input file picker element.\n",
              " * @param {string} outputId Element ID of the output display.\n",
              " * @return {!Iterable<!Object>} Iterable of next steps.\n",
              " */\n",
              "function* uploadFilesStep(inputId, outputId) {\n",
              "  const inputElement = document.getElementById(inputId);\n",
              "  inputElement.disabled = false;\n",
              "\n",
              "  const outputElement = document.getElementById(outputId);\n",
              "  outputElement.innerHTML = '';\n",
              "\n",
              "  const pickedPromise = new Promise((resolve) => {\n",
              "    inputElement.addEventListener('change', (e) => {\n",
              "      resolve(e.target.files);\n",
              "    });\n",
              "  });\n",
              "\n",
              "  const cancel = document.createElement('button');\n",
              "  inputElement.parentElement.appendChild(cancel);\n",
              "  cancel.textContent = 'Cancel upload';\n",
              "  const cancelPromise = new Promise((resolve) => {\n",
              "    cancel.onclick = () => {\n",
              "      resolve(null);\n",
              "    };\n",
              "  });\n",
              "\n",
              "  // Wait for the user to pick the files.\n",
              "  const files = yield {\n",
              "    promise: Promise.race([pickedPromise, cancelPromise]),\n",
              "    response: {\n",
              "      action: 'starting',\n",
              "    }\n",
              "  };\n",
              "\n",
              "  cancel.remove();\n",
              "\n",
              "  // Disable the input element since further picks are not allowed.\n",
              "  inputElement.disabled = true;\n",
              "\n",
              "  if (!files) {\n",
              "    return {\n",
              "      response: {\n",
              "        action: 'complete',\n",
              "      }\n",
              "    };\n",
              "  }\n",
              "\n",
              "  for (const file of files) {\n",
              "    const li = document.createElement('li');\n",
              "    li.append(span(file.name, {fontWeight: 'bold'}));\n",
              "    li.append(span(\n",
              "        `(${file.type || 'n/a'}) - ${file.size} bytes, ` +\n",
              "        `last modified: ${\n",
              "            file.lastModifiedDate ? file.lastModifiedDate.toLocaleDateString() :\n",
              "                                    'n/a'} - `));\n",
              "    const percent = span('0% done');\n",
              "    li.appendChild(percent);\n",
              "\n",
              "    outputElement.appendChild(li);\n",
              "\n",
              "    const fileDataPromise = new Promise((resolve) => {\n",
              "      const reader = new FileReader();\n",
              "      reader.onload = (e) => {\n",
              "        resolve(e.target.result);\n",
              "      };\n",
              "      reader.readAsArrayBuffer(file);\n",
              "    });\n",
              "    // Wait for the data to be ready.\n",
              "    let fileData = yield {\n",
              "      promise: fileDataPromise,\n",
              "      response: {\n",
              "        action: 'continue',\n",
              "      }\n",
              "    };\n",
              "\n",
              "    // Use a chunked sending to avoid message size limits. See b/62115660.\n",
              "    let position = 0;\n",
              "    do {\n",
              "      const length = Math.min(fileData.byteLength - position, MAX_PAYLOAD_SIZE);\n",
              "      const chunk = new Uint8Array(fileData, position, length);\n",
              "      position += length;\n",
              "\n",
              "      const base64 = btoa(String.fromCharCode.apply(null, chunk));\n",
              "      yield {\n",
              "        response: {\n",
              "          action: 'append',\n",
              "          file: file.name,\n",
              "          data: base64,\n",
              "        },\n",
              "      };\n",
              "\n",
              "      let percentDone = fileData.byteLength === 0 ?\n",
              "          100 :\n",
              "          Math.round((position / fileData.byteLength) * 100);\n",
              "      percent.textContent = `${percentDone}% done`;\n",
              "\n",
              "    } while (position < fileData.byteLength);\n",
              "  }\n",
              "\n",
              "  // All done.\n",
              "  yield {\n",
              "    response: {\n",
              "      action: 'complete',\n",
              "    }\n",
              "  };\n",
              "}\n",
              "\n",
              "scope.google = scope.google || {};\n",
              "scope.google.colab = scope.google.colab || {};\n",
              "scope.google.colab._files = {\n",
              "  _uploadFiles,\n",
              "  _uploadFilesContinue,\n",
              "};\n",
              "})(self);\n",
              "</script> "
            ],
            "text/plain": [
              "<IPython.core.display.HTML object>"
            ]
          },
          "metadata": {},
          "output_type": "display_data"
        }
      ]
    },
    {
      "cell_type": "code",
      "execution_count": null,
      "metadata": {
        "id": "A2Mjfog0cODi"
      },
      "outputs": [],
      "source": [
        "import matplotlib.pyplot as plt\n",
        "import pandas as pd\n",
        "import seaborn as sns\n",
        "from sklearn.preprocessing import MinMaxScaler\n",
        "\n",
        "scaler = MinMaxScaler()\n",
        "\n",
        "df = pd.read_csv('./ecommerce_preparados.csv')\n",
        "df = df.dropna(subset=['Nota', 'Qtd_Vendidos', 'Marca', 'Material', 'Gênero', 'Temporada','Marca_Freq','Preço_MinMax','Desconto_MinMax']) # Colunas a serem utilizadas.\n",
        "print(df.head())\n",
        "print(df.info())\n"
      ]
    },
    {
      "cell_type": "code",
      "source": [
        "#Gráfico de Dispersão - Utilizado para dados correlacionados.\n",
        "\n",
        "df['Qtd_Vendidos'] = pd.to_numeric(df['Qtd_Vendidos'], errors='coerce')\n",
        "top_vendidos = df.nlargest(5, 'Qtd_Vendidos')\n",
        "\n",
        "print(\"Características mais comuns entre os produtos mais vendidos:\")\n",
        "\n",
        "print()\n",
        "\n",
        "plt.figure(figsize=(8,8))\n",
        "sns.scatterplot(data=df, x='Nota', y='Qtd_Vendidos', alpha=0.6)\n",
        "plt.xlabel('Nota')\n",
        "plt.ylabel('Quantidade Vendida')\n",
        "plt.title('Relação entre Nota X Quantidade Vendida')\n",
        "plt.show()\n"
      ],
      "metadata": {
        "id": "clRaECdJOdOC"
      },
      "execution_count": null,
      "outputs": []
    },
    {
      "cell_type": "code",
      "source": [
        "#Gráfico de Calor - Visualização da intesidade/frequência/hábitos de comportamentos.\n",
        "\n",
        "heatmap_data = df.pivot_table(index='Temporada', values='Qtd_Vendidos', aggfunc='count')\n",
        "\n",
        "plt.figure(figsize=(8, 6))\n",
        "sns.heatmap(heatmap_data, annot=True, cmap='Oranges', fmt='.0f', cbar=True)\n",
        "plt.title('Frequência de Vendas vs Temporada')\n",
        "plt.xlabel('')\n",
        "plt.ylabel('')\n",
        "plt.show()"
      ],
      "metadata": {
        "id": "T21rL7Qi5QAC"
      },
      "execution_count": null,
      "outputs": []
    },
    {
      "cell_type": "code",
      "source": [
        "#Gráfico de Barras - Visualização de Categorias\n",
        "\n",
        "media_notas = df.groupby('Material')['Nota'].mean().sort_values(ascending=False)\n",
        "\n",
        "top_10_material = media_notas.head(10)\n",
        "\n",
        "plt.figure(figsize=(12, 6))\n",
        "sns.barplot(x=top_10_material.index, y=top_10_material.values, palette='pastel')\n",
        "\n",
        "plt.title('Top 10 Materiais')\n",
        "plt.xlabel('Material')\n",
        "plt.ylabel('Nota')\n",
        "plt.xticks(rotation=45)\n",
        "plt.grid(axis='y', linestyle='--', alpha=0.7)\n",
        "plt.show()"
      ],
      "metadata": {
        "id": "tPiAgYXS9KPm"
      },
      "execution_count": null,
      "outputs": []
    },
    {
      "cell_type": "code",
      "source": [
        "#Gráfico de Pizza - Visualização Ideal para Porcentagens\n",
        "\n",
        "porcentagem_genero = df[df['Gênero'].isin(['Feminino', 'Masculino'])]['Gênero'].value_counts(normalize=True) * 100\n",
        "\n",
        "plt.figure(figsize=(6,6))\n",
        "plt.pie(porcentagem_genero, labels=porcentagem_genero.index, autopct='%1.1f%%', startangle=140, colors=plt.cm.Paired.colors)\n",
        "plt.title(\"Comparativo Gêneros\")\n",
        "plt.show()\n",
        "\n"
      ],
      "metadata": {
        "id": "ULWZX4bSP1SJ"
      },
      "execution_count": null,
      "outputs": []
    },
    {
      "cell_type": "code",
      "source": [
        "#Gráfico de Densidade (KDE) - Visualização Estatítisca Suaviza Dados\n",
        "\n",
        "plt.figure(figsize=(8,5))\n",
        "sns.kdeplot(df['Preço_MinMax'], color='purple', fill=True)\n",
        "\n",
        "plt.title(\"Distribuição de Preços (Normalizados)\")\n",
        "plt.xlabel(\"Preço MinMax\")\n",
        "plt.ylabel(\"Densidade\")\n",
        "plt.show()"
      ],
      "metadata": {
        "id": "vQDXxB2AcdCE"
      },
      "execution_count": null,
      "outputs": []
    }
  ]
}